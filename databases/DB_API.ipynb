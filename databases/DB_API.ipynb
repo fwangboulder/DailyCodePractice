{
 "cells": [
  {
   "cell_type": "markdown",
   "metadata": {},
   "source": [
    "Installing the Virtual Machine\n",
    "In the next part of this course, you'll use a virtual machine (VM) to run an SQL database server and a web app that uses it. The VM is a Linux server system that runs on top of your own computer. You can share files easily between your computer and the VM; and you'll be running a web service inside the VM which you'll be able to access from your regular browser.\n",
    "\n",
    "We're using tools called Vagrant and VirtualBox to install and manage the VM. You'll need to install these to do some of the exercises. The instructions on this page will help you do this.\n",
    "\n",
    "Conceptual overview\n",
    "This video offers a conceptual overview of virtual machines and Vagrant. You don't need to watch it to proceed, but you may find it informative.\n",
    "\n",
    "Use a terminal\n",
    "You'll be doing these exercises using a Unix-style terminal on your computer. If you are using a Mac or Linux system, your regular terminal program will do just fine. On Windows, we recommend using the Git Bash terminal that comes with the Git software. If you don't already have Git installed, download Git from git-scm.com.\n",
    "\n"
   ]
  },
  {
   "cell_type": "code",
   "execution_count": null,
   "metadata": {
    "collapsed": true
   },
   "outputs": [],
   "source": [
    "#install virtual box\n",
    "#install vagrant\n",
    "# $vagrant --version\n",
    "\n",
    "#Download the VM configuration: download FSND-Virtual-Machine.zip and get into the vagrant folder\n",
    "#Start the virtual machine:  $ vagrant up\n",
    "\"\"\"\n",
    "This will cause Vagrant to download the Linux operating system and install it. \n",
    "This may take quite a while (many minutes) \n",
    "depending on how fast your Internet connection is.\n",
    "\n",
    "When vagrant up is finished running, you will get your shell prompt back. At this point,\n",
    "you can run vagrant ssh to log in to your newly installed Linux VM!\n",
    "\"\"\"\n",
    "# $vagrant ssh\n",
    "# $cd /vagrant\n",
    "# $ls\n",
    "# $ psql\n",
    "###to exit###\n",
    "# $exit \n",
    "#ctrl+D\n",
    "\"\"\"\n",
    "To log back in, make sure you're in the same directory and type vagrant ssh again.\n",
    "\n",
    "If you reboot your computer, you will need to run vagrant up to restart the VM.\n",
    "\"\"\"\n",
    "###to restart computer##\n",
    "# $vagrant up"
   ]
  },
  {
   "cell_type": "code",
   "execution_count": 1,
   "metadata": {
    "collapsed": false
   },
   "outputs": [
    {
     "ename": "OperationalError",
     "evalue": "no such table: balloons",
     "output_type": "error",
     "traceback": [
      "\u001b[0;31m---------------------------------------------------------------------------\u001b[0m",
      "\u001b[0;31mOperationalError\u001b[0m                          Traceback (most recent call last)",
      "\u001b[0;32m<ipython-input-1-640bd3e7e6a6>\u001b[0m in \u001b[0;36m<module>\u001b[0;34m()\u001b[0m\n\u001b[1;32m      8\u001b[0m \u001b[0mdb\u001b[0m \u001b[0;34m=\u001b[0m \u001b[0msqlite3\u001b[0m\u001b[0;34m.\u001b[0m\u001b[0mconnect\u001b[0m\u001b[0;34m(\u001b[0m\u001b[0;34m\"testdb\"\u001b[0m\u001b[0;34m)\u001b[0m\u001b[0;34m\u001b[0m\u001b[0m\n\u001b[1;32m      9\u001b[0m \u001b[0mc\u001b[0m \u001b[0;34m=\u001b[0m \u001b[0mdb\u001b[0m\u001b[0;34m.\u001b[0m\u001b[0mcursor\u001b[0m\u001b[0;34m(\u001b[0m\u001b[0;34m)\u001b[0m\u001b[0;34m\u001b[0m\u001b[0m\n\u001b[0;32m---> 10\u001b[0;31m \u001b[0mc\u001b[0m\u001b[0;34m.\u001b[0m\u001b[0mexecute\u001b[0m\u001b[0;34m(\u001b[0m\u001b[0;34m\"insert into balloons values ('blue', 'water') \"\u001b[0m\u001b[0;34m)\u001b[0m\u001b[0;34m\u001b[0m\u001b[0m\n\u001b[0m\u001b[1;32m     11\u001b[0m \u001b[0mdb\u001b[0m\u001b[0;34m.\u001b[0m\u001b[0mcommit\u001b[0m\u001b[0;34m(\u001b[0m\u001b[0;34m)\u001b[0m\u001b[0;34m\u001b[0m\u001b[0m\n\u001b[1;32m     12\u001b[0m \u001b[0mdb\u001b[0m\u001b[0;34m.\u001b[0m\u001b[0mclose\u001b[0m\u001b[0;34m(\u001b[0m\u001b[0;34m)\u001b[0m\u001b[0;34m\u001b[0m\u001b[0m\n",
      "\u001b[0;31mOperationalError\u001b[0m: no such table: balloons"
     ]
    }
   ],
   "source": [
    "# This code attempts to insert a new row into the database, but doesn't\n",
    "# commit the insertion.  Add a commit call in the right place to make\n",
    "# it work properly.\n",
    "# \n",
    "\n",
    "import sqlite3\n",
    "\n",
    "db = sqlite3.connect(\"testdb\")\n",
    "c = db.cursor()\n",
    "c.execute(\"insert into balloons values ('blue', 'water') \")\n",
    "db.commit()\n",
    "db.close()\n",
    "\n"
   ]
  },
  {
   "cell_type": "code",
   "execution_count": null,
   "metadata": {
    "collapsed": true
   },
   "outputs": [],
   "source": []
  }
 ],
 "metadata": {
  "anaconda-cloud": {},
  "kernelspec": {
   "display_name": "Python [Root]",
   "language": "python",
   "name": "Python [Root]"
  },
  "language_info": {
   "codemirror_mode": {
    "name": "ipython",
    "version": 2
   },
   "file_extension": ".py",
   "mimetype": "text/x-python",
   "name": "python",
   "nbconvert_exporter": "python",
   "pygments_lexer": "ipython2",
   "version": "2.7.12"
  }
 },
 "nbformat": 4,
 "nbformat_minor": 0
}
