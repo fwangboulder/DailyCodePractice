{
 "cells": [
  {
   "cell_type": "markdown",
   "metadata": {},
   "source": [
    "1. **71 Simplify Path** medium\n",
    "\n",
    "        given an absolute path for a file(unix style), simplify it.\n",
    "    \n",
    "        example:\n",
    "    \n",
    "        ```\n",
    "        input: \"/home/\"\n",
    "        output: \"/home\"\n",
    "    \n",
    "        input: \"/a/./b/../../c/\"\n",
    "        output: \"/c\"\n",
    "    \n",
    "        ```\n",
    "\n",
    "2.\n",
    "\n",
    "3.\n",
    "\n",
    "4.\n",
    "\n",
    "5.\n",
    "\n"
   ]
  },
  {
   "cell_type": "code",
   "execution_count": 6,
   "metadata": {
    "collapsed": true
   },
   "outputs": [],
   "source": [
    "class Solution(object):\n",
    "    def simplifyPath(self,path):\n",
    "        \"\"\"\n",
    "        :type path: str\n",
    "        :rtype: str\n",
    "        \"\"\"\n",
    "        places=[p for p in path.split(\"/\") if p!=\".\" and p!=\"\"]\n",
    "        #print places\n",
    "        stack=[]\n",
    "        for p in places:\n",
    "            if p==\"..\":\n",
    "                if len(stack)>0:\n",
    "                    stack.pop()\n",
    "            else:\n",
    "                stack.append(p)\n",
    "        return \"/\"+\"/\".join(stack)\n",
    "        \n",
    "        "
   ]
  },
  {
   "cell_type": "code",
   "execution_count": 7,
   "metadata": {
    "collapsed": false
   },
   "outputs": [
    {
     "name": "stdout",
     "output_type": "stream",
     "text": [
      "/c\n"
     ]
    }
   ],
   "source": [
    "test=Solution()\n",
    "print test.simplifyPath(\"/a/./b/../../c/\")"
   ]
  },
  {
   "cell_type": "code",
   "execution_count": null,
   "metadata": {
    "collapsed": false
   },
   "outputs": [],
   "source": []
  },
  {
   "cell_type": "code",
   "execution_count": null,
   "metadata": {
    "collapsed": true
   },
   "outputs": [],
   "source": []
  }
 ],
 "metadata": {
  "anaconda-cloud": {},
  "kernelspec": {
   "display_name": "Python [Root]",
   "language": "python",
   "name": "Python [Root]"
  },
  "language_info": {
   "codemirror_mode": {
    "name": "ipython",
    "version": 2
   },
   "file_extension": ".py",
   "mimetype": "text/x-python",
   "name": "python",
   "nbconvert_exporter": "python",
   "pygments_lexer": "ipython2",
   "version": "2.7.12"
  }
 },
 "nbformat": 4,
 "nbformat_minor": 0
}
